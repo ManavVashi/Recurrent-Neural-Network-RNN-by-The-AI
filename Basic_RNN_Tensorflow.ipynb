{
  "nbformat": 4,
  "nbformat_minor": 0,
  "metadata": {
    "colab": {
      "provenance": []
    },
    "kernelspec": {
      "name": "python3",
      "display_name": "Python 3"
    },
    "language_info": {
      "name": "python"
    }
  },
  "cells": [
    {
      "cell_type": "code",
      "source": [
        "import pandas as pd"
      ],
      "metadata": {
        "id": "hmIA8IrbdBST"
      },
      "execution_count": 34,
      "outputs": []
    },
    {
      "cell_type": "code",
      "execution_count": 35,
      "metadata": {
        "colab": {
          "base_uri": "https://localhost:8080/"
        },
        "id": "a_1ILhdKaxdA",
        "outputId": "91f1e16c-db75-42ef-b820-dd6c0274cb9e"
      },
      "outputs": [
        {
          "output_type": "stream",
          "name": "stdout",
          "text": [
            "         review  sentiment\n",
            "0  Good Product          1\n",
            "1   Bad Product          0\n",
            "2    Execellent          1\n",
            "3        Normal          0\n",
            "4   Intemidiate          1\n",
            "5  Not expected          0\n",
            "6   Low Quality          0\n",
            "7  Good Quality          1\n"
          ]
        }
      ],
      "source": [
        "doc={\"review\":[\"Good Product\",\"Bad Product\",\"Execellent\",\"Normal\",\"Intemidiate\",\"Not expected\",\"Low Quality\",\"Good Quality\"],\n",
        "     \"sentiment\":[1,0,1,0,1,0,0,1]}\n",
        "\n",
        "df=pd.DataFrame(doc)\n",
        "print(df)\n",
        "\n",
        "#making dataset by own"
      ]
    },
    {
      "cell_type": "code",
      "source": [
        "from keras.preprocessing.text import Tokenizer\n",
        "tokenizer=Tokenizer(oov_token=\"<nothing>\")\n",
        "tokenizer.fit_on_texts(df[\"review\"])"
      ],
      "metadata": {
        "id": "2-PjrQoGdANz"
      },
      "execution_count": 36,
      "outputs": []
    },
    {
      "cell_type": "markdown",
      "source": [],
      "metadata": {
        "id": "mgG0GPLGDG34"
      }
    },
    {
      "cell_type": "markdown",
      "source": [
        "* **Work of Tokenizer**\n",
        "1. covert all uppercase latter to lowercase latter\n",
        "2. assign unique interger number to each unique word\n",
        "3. if unknown word(word which is not in dataset) found then replace it with nothing word"
      ],
      "metadata": {
        "id": "G2XyBybuCA_w"
      }
    },
    {
      "cell_type": "code",
      "source": [
        "tokenizer.word_index"
      ],
      "metadata": {
        "colab": {
          "base_uri": "https://localhost:8080/"
        },
        "id": "FA1vWiAnjtB0",
        "outputId": "75b39a3e-ba95-4be9-e7ee-c3bfdf666db2"
      },
      "execution_count": 37,
      "outputs": [
        {
          "output_type": "execute_result",
          "data": {
            "text/plain": [
              "{'<nothing>': 1,\n",
              " 'good': 2,\n",
              " 'product': 3,\n",
              " 'quality': 4,\n",
              " 'bad': 5,\n",
              " 'execellent': 6,\n",
              " 'normal': 7,\n",
              " 'intemidiate': 8,\n",
              " 'not': 9,\n",
              " 'expected': 10,\n",
              " 'low': 11}"
            ]
          },
          "metadata": {},
          "execution_count": 37
        }
      ]
    },
    {
      "cell_type": "markdown",
      "source": [
        "* you can see that we have 10 + 1(nothing) unique words and Tokenizer assign them unique number.\n",
        "* remember, if 2 times good is reapeating then also only one unique integer is assign to good.\n",
        "* one good have one assigned interger and second one have other is not possible."
      ],
      "metadata": {
        "id": "4pzY6zzaDZVi"
      }
    },
    {
      "cell_type": "code",
      "source": [
        "tokenizer.word_counts"
      ],
      "metadata": {
        "colab": {
          "base_uri": "https://localhost:8080/"
        },
        "id": "AL1JDrtLk4iM",
        "outputId": "3dda8a32-5182-4ff7-aa7e-70a1c10504b9"
      },
      "execution_count": 38,
      "outputs": [
        {
          "output_type": "execute_result",
          "data": {
            "text/plain": [
              "OrderedDict([('good', 2),\n",
              "             ('product', 2),\n",
              "             ('bad', 1),\n",
              "             ('execellent', 1),\n",
              "             ('normal', 1),\n",
              "             ('intemidiate', 1),\n",
              "             ('not', 1),\n",
              "             ('expected', 1),\n",
              "             ('low', 1),\n",
              "             ('quality', 2)])"
            ]
          },
          "metadata": {},
          "execution_count": 38
        }
      ]
    },
    {
      "cell_type": "markdown",
      "source": [
        "* also, we can fatch How many time a word is repeated??"
      ],
      "metadata": {
        "id": "WsX8dHijD2T6"
      }
    },
    {
      "cell_type": "code",
      "source": [
        "encoded_sequence=tokenizer.texts_to_sequences(df[\"review\"])\n",
        "encoded_sequence\n",
        "\n",
        "# text_to_sequences is the function which assign interger to word"
      ],
      "metadata": {
        "colab": {
          "base_uri": "https://localhost:8080/"
        },
        "id": "TzVuFFh9lGuQ",
        "outputId": "b35cf490-db2f-4a2d-abb0-b6ddc3101ea7"
      },
      "execution_count": 39,
      "outputs": [
        {
          "output_type": "execute_result",
          "data": {
            "text/plain": [
              "[[2, 3], [5, 3], [6], [7], [8], [9, 10], [11, 4], [2, 4]]"
            ]
          },
          "metadata": {},
          "execution_count": 39
        }
      ]
    },
    {
      "cell_type": "markdown",
      "source": [
        "* as we know variable shape of input is not valid in any Neural Network, so we have to reshape it by adding 0 value in prefix or in postfix and make them unishape.\n",
        "* This functionality is achived by pad_sequences function provided by keras library avilable in utils class.\n",
        "* you can see [2,3] have (1,2) shape where as [6] have (1,1) shape.\n",
        "* pad_sequences make their shape to [1,2] as maximum array/text length is 2"
      ],
      "metadata": {
        "id": "aEADHtOFFPRP"
      }
    },
    {
      "cell_type": "code",
      "source": [
        "from keras.utils import pad_sequences\n",
        "padded_encoded_sequence=pad_sequences(encoded_sequence,padding=\"post\")\n",
        "padded_encoded_sequence\n",
        "\n",
        "#unishaping"
      ],
      "metadata": {
        "colab": {
          "base_uri": "https://localhost:8080/"
        },
        "id": "8zhWmZz1lv0Y",
        "outputId": "30711ffc-89bd-4e1f-bd4a-779a9a19cccc"
      },
      "execution_count": 40,
      "outputs": [
        {
          "output_type": "execute_result",
          "data": {
            "text/plain": [
              "array([[ 2,  3],\n",
              "       [ 5,  3],\n",
              "       [ 6,  0],\n",
              "       [ 7,  0],\n",
              "       [ 8,  0],\n",
              "       [ 9, 10],\n",
              "       [11,  4],\n",
              "       [ 2,  4]], dtype=int32)"
            ]
          },
          "metadata": {},
          "execution_count": 40
        }
      ]
    },
    {
      "cell_type": "code",
      "source": [
        "padded_encoded_sequence.shape\n",
        "\n",
        "#shape after reshaping\n",
        "#as I said pad_sequences make their shape to [1,2] as maximum array/text length is 2\n",
        "#[8,2] because we have 8 rows/8 reviews"
      ],
      "metadata": {
        "colab": {
          "base_uri": "https://localhost:8080/"
        },
        "id": "oACNUjtzo62L",
        "outputId": "3c7dfc54-d842-4cb8-ad69-37cb0056fed7"
      },
      "execution_count": 41,
      "outputs": [
        {
          "output_type": "execute_result",
          "data": {
            "text/plain": [
              "(8, 2)"
            ]
          },
          "metadata": {},
          "execution_count": 41
        }
      ]
    },
    {
      "cell_type": "code",
      "source": [
        "from sklearn.model_selection import train_test_split\n",
        "x_train,x_test,y_train,y_test=train_test_split(padded_encoded_sequence,df[\"sentiment\"],test_size=0.2)\n",
        "\n",
        "#splitting training and testing data"
      ],
      "metadata": {
        "id": "er1Yn27RpAFh"
      },
      "execution_count": 42,
      "outputs": []
    },
    {
      "cell_type": "code",
      "source": [
        "print(x_train.shape)\n",
        "print(y_train.shape)\n",
        "print(x_test.shape)\n",
        "print(y_test.shape)"
      ],
      "metadata": {
        "colab": {
          "base_uri": "https://localhost:8080/"
        },
        "id": "RG9VSfujpTE_",
        "outputId": "b15153ba-ae7c-48cd-bc18-9589c895484d"
      },
      "execution_count": 43,
      "outputs": [
        {
          "output_type": "stream",
          "name": "stdout",
          "text": [
            "(6, 2)\n",
            "(6,)\n",
            "(2, 2)\n",
            "(2,)\n"
          ]
        }
      ]
    },
    {
      "cell_type": "code",
      "source": [
        "import tensorflow\n",
        "from keras.models import Sequential\n",
        "from keras.layers import Dense,SimpleRNN\n",
        "\n",
        "#importing Sequential model,SimpleRNN layer and Dense layer from keras"
      ],
      "metadata": {
        "id": "w8aBHzy1pg18"
      },
      "execution_count": 44,
      "outputs": []
    },
    {
      "cell_type": "code",
      "source": [
        "model=Sequential()\n",
        "\n",
        "model.add(SimpleRNN(64,return_sequences=False,input_shape=(2,1)))\n",
        "model.add(Dense(1,activation='sigmoid'))\n",
        "\n",
        "model.summary()\n",
        "\n",
        "#RNN architecture\n",
        "#64 is the no of nodes\n",
        "#retrun_sequences=False means intermediate output is not required\n",
        "#input shape=shape of one review"
      ],
      "metadata": {
        "colab": {
          "base_uri": "https://localhost:8080/"
        },
        "id": "6-_6drpbp-6C",
        "outputId": "dbcbb9bf-f7d7-4be7-ad9b-63530f0e2051"
      },
      "execution_count": 45,
      "outputs": [
        {
          "output_type": "stream",
          "name": "stdout",
          "text": [
            "Model: \"sequential_2\"\n",
            "_________________________________________________________________\n",
            " Layer (type)                Output Shape              Param #   \n",
            "=================================================================\n",
            " simple_rnn_1 (SimpleRNN)    (None, 64)                4224      \n",
            "                                                                 \n",
            " dense_1 (Dense)             (None, 1)                 65        \n",
            "                                                                 \n",
            "=================================================================\n",
            "Total params: 4289 (16.75 KB)\n",
            "Trainable params: 4289 (16.75 KB)\n",
            "Non-trainable params: 0 (0.00 Byte)\n",
            "_________________________________________________________________\n"
          ]
        }
      ]
    },
    {
      "cell_type": "markdown",
      "source": [
        "\n",
        "\n",
        "* **Trainable Perameters**\n",
        "**at layer 0 at (SimpleRNN layer)**\n",
        "* (2*64)(previous/no of input)*currunt node + (64*64)(feedback)\n",
        "* =128 + 4096\n",
        "* =4224\n",
        "\n",
        "**at layer 1 at(Dense layer)**\n",
        "* = 64(previous node) * 1(currunt node) + 1(bias)\n",
        "* = 65\n",
        "\n",
        "\n",
        "\n"
      ],
      "metadata": {
        "id": "IY41DaarW2ex"
      }
    },
    {
      "cell_type": "code",
      "source": [
        "model.compile(optimizer='adam',loss='binary_crossentropy',metrics=['accuracy'])\n",
        "\n",
        "#model compile"
      ],
      "metadata": {
        "id": "XyuCu74hq4Rn"
      },
      "execution_count": 46,
      "outputs": []
    },
    {
      "cell_type": "code",
      "source": [
        "history=model.fit(x_train,y_train,epochs=100)\n",
        "\n",
        "#model training"
      ],
      "metadata": {
        "colab": {
          "base_uri": "https://localhost:8080/"
        },
        "id": "udJNWKD6rGSo",
        "outputId": "66628227-529a-40b5-82a4-922a9f897000"
      },
      "execution_count": 47,
      "outputs": [
        {
          "output_type": "stream",
          "name": "stdout",
          "text": [
            "Epoch 1/100\n",
            "1/1 [==============================] - 1s 1s/step - loss: 0.8006 - accuracy: 0.3333\n",
            "Epoch 2/100\n",
            "1/1 [==============================] - 0s 14ms/step - loss: 0.7295 - accuracy: 0.3333\n",
            "Epoch 3/100\n",
            "1/1 [==============================] - 0s 14ms/step - loss: 0.6753 - accuracy: 0.6667\n",
            "Epoch 4/100\n",
            "1/1 [==============================] - 0s 15ms/step - loss: 0.6377 - accuracy: 0.8333\n",
            "Epoch 5/100\n",
            "1/1 [==============================] - 0s 12ms/step - loss: 0.6143 - accuracy: 0.6667\n",
            "Epoch 6/100\n",
            "1/1 [==============================] - 0s 12ms/step - loss: 0.6016 - accuracy: 0.6667\n",
            "Epoch 7/100\n",
            "1/1 [==============================] - 0s 14ms/step - loss: 0.5953 - accuracy: 0.6667\n",
            "Epoch 8/100\n",
            "1/1 [==============================] - 0s 14ms/step - loss: 0.5920 - accuracy: 0.6667\n",
            "Epoch 9/100\n",
            "1/1 [==============================] - 0s 17ms/step - loss: 0.5895 - accuracy: 0.6667\n",
            "Epoch 10/100\n",
            "1/1 [==============================] - 0s 15ms/step - loss: 0.5864 - accuracy: 0.6667\n",
            "Epoch 11/100\n",
            "1/1 [==============================] - 0s 18ms/step - loss: 0.5820 - accuracy: 0.6667\n",
            "Epoch 12/100\n",
            "1/1 [==============================] - 0s 19ms/step - loss: 0.5760 - accuracy: 0.6667\n",
            "Epoch 13/100\n",
            "1/1 [==============================] - 0s 15ms/step - loss: 0.5686 - accuracy: 0.6667\n",
            "Epoch 14/100\n",
            "1/1 [==============================] - 0s 14ms/step - loss: 0.5601 - accuracy: 0.6667\n",
            "Epoch 15/100\n",
            "1/1 [==============================] - 0s 12ms/step - loss: 0.5511 - accuracy: 0.6667\n",
            "Epoch 16/100\n",
            "1/1 [==============================] - 0s 12ms/step - loss: 0.5421 - accuracy: 0.6667\n",
            "Epoch 17/100\n",
            "1/1 [==============================] - 0s 13ms/step - loss: 0.5335 - accuracy: 0.6667\n",
            "Epoch 18/100\n",
            "1/1 [==============================] - 0s 13ms/step - loss: 0.5258 - accuracy: 0.6667\n",
            "Epoch 19/100\n",
            "1/1 [==============================] - 0s 11ms/step - loss: 0.5194 - accuracy: 0.6667\n",
            "Epoch 20/100\n",
            "1/1 [==============================] - 0s 13ms/step - loss: 0.5143 - accuracy: 0.6667\n",
            "Epoch 21/100\n",
            "1/1 [==============================] - 0s 12ms/step - loss: 0.5104 - accuracy: 0.6667\n",
            "Epoch 22/100\n",
            "1/1 [==============================] - 0s 12ms/step - loss: 0.5076 - accuracy: 0.6667\n",
            "Epoch 23/100\n",
            "1/1 [==============================] - 0s 14ms/step - loss: 0.5055 - accuracy: 0.6667\n",
            "Epoch 24/100\n",
            "1/1 [==============================] - 0s 16ms/step - loss: 0.5037 - accuracy: 0.6667\n",
            "Epoch 25/100\n",
            "1/1 [==============================] - 0s 14ms/step - loss: 0.5018 - accuracy: 0.6667\n",
            "Epoch 26/100\n",
            "1/1 [==============================] - 0s 13ms/step - loss: 0.4995 - accuracy: 0.5000\n",
            "Epoch 27/100\n",
            "1/1 [==============================] - 0s 13ms/step - loss: 0.4968 - accuracy: 0.5000\n",
            "Epoch 28/100\n",
            "1/1 [==============================] - 0s 14ms/step - loss: 0.4937 - accuracy: 0.5000\n",
            "Epoch 29/100\n",
            "1/1 [==============================] - 0s 14ms/step - loss: 0.4903 - accuracy: 0.5000\n",
            "Epoch 30/100\n",
            "1/1 [==============================] - 0s 14ms/step - loss: 0.4869 - accuracy: 0.5000\n",
            "Epoch 31/100\n",
            "1/1 [==============================] - 0s 13ms/step - loss: 0.4837 - accuracy: 0.6667\n",
            "Epoch 32/100\n",
            "1/1 [==============================] - 0s 11ms/step - loss: 0.4807 - accuracy: 0.6667\n",
            "Epoch 33/100\n",
            "1/1 [==============================] - 0s 14ms/step - loss: 0.4782 - accuracy: 0.6667\n",
            "Epoch 34/100\n",
            "1/1 [==============================] - 0s 13ms/step - loss: 0.4760 - accuracy: 0.6667\n",
            "Epoch 35/100\n",
            "1/1 [==============================] - 0s 11ms/step - loss: 0.4741 - accuracy: 0.6667\n",
            "Epoch 36/100\n",
            "1/1 [==============================] - 0s 10ms/step - loss: 0.4724 - accuracy: 0.6667\n",
            "Epoch 37/100\n",
            "1/1 [==============================] - 0s 12ms/step - loss: 0.4708 - accuracy: 0.6667\n",
            "Epoch 38/100\n",
            "1/1 [==============================] - 0s 12ms/step - loss: 0.4692 - accuracy: 0.6667\n",
            "Epoch 39/100\n",
            "1/1 [==============================] - 0s 14ms/step - loss: 0.4674 - accuracy: 0.6667\n",
            "Epoch 40/100\n",
            "1/1 [==============================] - 0s 15ms/step - loss: 0.4655 - accuracy: 0.6667\n",
            "Epoch 41/100\n",
            "1/1 [==============================] - 0s 17ms/step - loss: 0.4635 - accuracy: 0.6667\n",
            "Epoch 42/100\n",
            "1/1 [==============================] - 0s 14ms/step - loss: 0.4615 - accuracy: 0.6667\n",
            "Epoch 43/100\n",
            "1/1 [==============================] - 0s 15ms/step - loss: 0.4594 - accuracy: 0.6667\n",
            "Epoch 44/100\n",
            "1/1 [==============================] - 0s 14ms/step - loss: 0.4575 - accuracy: 0.6667\n",
            "Epoch 45/100\n",
            "1/1 [==============================] - 0s 13ms/step - loss: 0.4556 - accuracy: 0.6667\n",
            "Epoch 46/100\n",
            "1/1 [==============================] - 0s 18ms/step - loss: 0.4539 - accuracy: 0.6667\n",
            "Epoch 47/100\n",
            "1/1 [==============================] - 0s 14ms/step - loss: 0.4523 - accuracy: 0.6667\n",
            "Epoch 48/100\n",
            "1/1 [==============================] - 0s 17ms/step - loss: 0.4507 - accuracy: 0.6667\n",
            "Epoch 49/100\n",
            "1/1 [==============================] - 0s 16ms/step - loss: 0.4492 - accuracy: 0.6667\n",
            "Epoch 50/100\n",
            "1/1 [==============================] - 0s 14ms/step - loss: 0.4477 - accuracy: 0.6667\n",
            "Epoch 51/100\n",
            "1/1 [==============================] - 0s 13ms/step - loss: 0.4461 - accuracy: 0.6667\n",
            "Epoch 52/100\n",
            "1/1 [==============================] - 0s 11ms/step - loss: 0.4445 - accuracy: 0.6667\n",
            "Epoch 53/100\n",
            "1/1 [==============================] - 0s 15ms/step - loss: 0.4429 - accuracy: 0.6667\n",
            "Epoch 54/100\n",
            "1/1 [==============================] - 0s 15ms/step - loss: 0.4412 - accuracy: 0.6667\n",
            "Epoch 55/100\n",
            "1/1 [==============================] - 0s 13ms/step - loss: 0.4396 - accuracy: 0.6667\n",
            "Epoch 56/100\n",
            "1/1 [==============================] - 0s 13ms/step - loss: 0.4380 - accuracy: 0.6667\n",
            "Epoch 57/100\n",
            "1/1 [==============================] - 0s 13ms/step - loss: 0.4364 - accuracy: 0.6667\n",
            "Epoch 58/100\n",
            "1/1 [==============================] - 0s 12ms/step - loss: 0.4349 - accuracy: 0.6667\n",
            "Epoch 59/100\n",
            "1/1 [==============================] - 0s 11ms/step - loss: 0.4335 - accuracy: 0.6667\n",
            "Epoch 60/100\n",
            "1/1 [==============================] - 0s 14ms/step - loss: 0.4320 - accuracy: 0.6667\n",
            "Epoch 61/100\n",
            "1/1 [==============================] - 0s 14ms/step - loss: 0.4306 - accuracy: 0.8333\n",
            "Epoch 62/100\n",
            "1/1 [==============================] - 0s 13ms/step - loss: 0.4292 - accuracy: 0.8333\n",
            "Epoch 63/100\n",
            "1/1 [==============================] - 0s 14ms/step - loss: 0.4277 - accuracy: 0.8333\n",
            "Epoch 64/100\n",
            "1/1 [==============================] - 0s 13ms/step - loss: 0.4262 - accuracy: 0.8333\n",
            "Epoch 65/100\n",
            "1/1 [==============================] - 0s 15ms/step - loss: 0.4248 - accuracy: 0.8333\n",
            "Epoch 66/100\n",
            "1/1 [==============================] - 0s 13ms/step - loss: 0.4233 - accuracy: 0.8333\n",
            "Epoch 67/100\n",
            "1/1 [==============================] - 0s 13ms/step - loss: 0.4219 - accuracy: 0.8333\n",
            "Epoch 68/100\n",
            "1/1 [==============================] - 0s 14ms/step - loss: 0.4205 - accuracy: 0.8333\n",
            "Epoch 69/100\n",
            "1/1 [==============================] - 0s 12ms/step - loss: 0.4191 - accuracy: 0.8333\n",
            "Epoch 70/100\n",
            "1/1 [==============================] - 0s 14ms/step - loss: 0.4178 - accuracy: 0.8333\n",
            "Epoch 71/100\n",
            "1/1 [==============================] - 0s 13ms/step - loss: 0.4164 - accuracy: 0.8333\n",
            "Epoch 72/100\n",
            "1/1 [==============================] - 0s 12ms/step - loss: 0.4150 - accuracy: 0.8333\n",
            "Epoch 73/100\n",
            "1/1 [==============================] - 0s 11ms/step - loss: 0.4137 - accuracy: 0.8333\n",
            "Epoch 74/100\n",
            "1/1 [==============================] - 0s 11ms/step - loss: 0.4123 - accuracy: 0.8333\n",
            "Epoch 75/100\n",
            "1/1 [==============================] - 0s 12ms/step - loss: 0.4109 - accuracy: 0.8333\n",
            "Epoch 76/100\n",
            "1/1 [==============================] - 0s 11ms/step - loss: 0.4095 - accuracy: 0.8333\n",
            "Epoch 77/100\n",
            "1/1 [==============================] - 0s 12ms/step - loss: 0.4082 - accuracy: 0.8333\n",
            "Epoch 78/100\n",
            "1/1 [==============================] - 0s 20ms/step - loss: 0.4068 - accuracy: 0.8333\n",
            "Epoch 79/100\n",
            "1/1 [==============================] - 0s 12ms/step - loss: 0.4055 - accuracy: 0.8333\n",
            "Epoch 80/100\n",
            "1/1 [==============================] - 0s 12ms/step - loss: 0.4042 - accuracy: 0.8333\n",
            "Epoch 81/100\n",
            "1/1 [==============================] - 0s 13ms/step - loss: 0.4029 - accuracy: 0.8333\n",
            "Epoch 82/100\n",
            "1/1 [==============================] - 0s 12ms/step - loss: 0.4015 - accuracy: 0.8333\n",
            "Epoch 83/100\n",
            "1/1 [==============================] - 0s 13ms/step - loss: 0.4002 - accuracy: 0.8333\n",
            "Epoch 84/100\n",
            "1/1 [==============================] - 0s 13ms/step - loss: 0.3989 - accuracy: 0.8333\n",
            "Epoch 85/100\n",
            "1/1 [==============================] - 0s 12ms/step - loss: 0.3976 - accuracy: 0.8333\n",
            "Epoch 86/100\n",
            "1/1 [==============================] - 0s 13ms/step - loss: 0.3963 - accuracy: 0.8333\n",
            "Epoch 87/100\n",
            "1/1 [==============================] - 0s 12ms/step - loss: 0.3950 - accuracy: 0.8333\n",
            "Epoch 88/100\n",
            "1/1 [==============================] - 0s 11ms/step - loss: 0.3937 - accuracy: 0.8333\n",
            "Epoch 89/100\n",
            "1/1 [==============================] - 0s 14ms/step - loss: 0.3924 - accuracy: 0.8333\n",
            "Epoch 90/100\n",
            "1/1 [==============================] - 0s 13ms/step - loss: 0.3911 - accuracy: 0.8333\n",
            "Epoch 91/100\n",
            "1/1 [==============================] - 0s 12ms/step - loss: 0.3898 - accuracy: 0.8333\n",
            "Epoch 92/100\n",
            "1/1 [==============================] - 0s 12ms/step - loss: 0.3885 - accuracy: 0.8333\n",
            "Epoch 93/100\n",
            "1/1 [==============================] - 0s 14ms/step - loss: 0.3873 - accuracy: 0.8333\n",
            "Epoch 94/100\n",
            "1/1 [==============================] - 0s 12ms/step - loss: 0.3860 - accuracy: 0.8333\n",
            "Epoch 95/100\n",
            "1/1 [==============================] - 0s 12ms/step - loss: 0.3847 - accuracy: 0.8333\n",
            "Epoch 96/100\n",
            "1/1 [==============================] - 0s 14ms/step - loss: 0.3834 - accuracy: 0.8333\n",
            "Epoch 97/100\n",
            "1/1 [==============================] - 0s 14ms/step - loss: 0.3822 - accuracy: 0.8333\n",
            "Epoch 98/100\n",
            "1/1 [==============================] - 0s 14ms/step - loss: 0.3809 - accuracy: 0.8333\n",
            "Epoch 99/100\n",
            "1/1 [==============================] - 0s 12ms/step - loss: 0.3796 - accuracy: 0.8333\n",
            "Epoch 100/100\n",
            "1/1 [==============================] - 0s 11ms/step - loss: 0.3784 - accuracy: 0.8333\n"
          ]
        }
      ]
    },
    {
      "cell_type": "code",
      "source": [
        "y_predict=model.predict(x_test)\n",
        "y_predict\n",
        "\n",
        "#model testing"
      ],
      "metadata": {
        "colab": {
          "base_uri": "https://localhost:8080/"
        },
        "id": "pHSwBaMKrRt7",
        "outputId": "6f36bf03-21b5-43bf-881d-b93da5f0af18"
      },
      "execution_count": 48,
      "outputs": [
        {
          "output_type": "stream",
          "name": "stdout",
          "text": [
            "1/1 [==============================] - 0s 176ms/step\n"
          ]
        },
        {
          "output_type": "execute_result",
          "data": {
            "text/plain": [
              "array([[0.5066152],\n",
              "       [0.6164243]], dtype=float32)"
            ]
          },
          "metadata": {},
          "execution_count": 48
        }
      ]
    },
    {
      "cell_type": "code",
      "source": [
        "print(x_test)\n",
        "print()\n",
        "print(y_test)\n",
        "\n",
        "#our prediction and original output is maching\n",
        "#0.72 ~ 1\n",
        "#0.096 ~ 0"
      ],
      "metadata": {
        "colab": {
          "base_uri": "https://localhost:8080/"
        },
        "id": "msyFF9aqrXw7",
        "outputId": "f8948593-a911-4e0a-99c2-2bf2f4f222b0"
      },
      "execution_count": 49,
      "outputs": [
        {
          "output_type": "stream",
          "name": "stdout",
          "text": [
            "[[6 0]\n",
            " [2 4]]\n",
            "\n",
            "2    1\n",
            "7    1\n",
            "Name: sentiment, dtype: int64\n"
          ]
        }
      ]
    },
    {
      "cell_type": "code",
      "source": [
        "import matplotlib.pyplot as plt\n",
        "plt.plot(history.history['accuracy'])\n",
        "plt.title('model accuracy')\n",
        "plt.ylabel('accuracy')\n",
        "plt.xlabel('epoch')\n",
        "plt.legend(['train'],loc='upper left')\n",
        "plt.show()\n",
        "\n",
        "#ploting epochs v/s tranining accuracy graph"
      ],
      "metadata": {
        "colab": {
          "base_uri": "https://localhost:8080/",
          "height": 472
        },
        "id": "v93PDHnmrxMC",
        "outputId": "df39f003-a686-4331-a9ed-38261b62e533"
      },
      "execution_count": 50,
      "outputs": [
        {
          "output_type": "display_data",
          "data": {
            "text/plain": [
              "<Figure size 640x480 with 1 Axes>"
            ],
            "image/png": "[encoded data removed]"
          },
          "metadata": {}
        }
      ]
    },
    {
      "cell_type": "code",
      "source": [
        "plt.plot(history.history['loss'])\n",
        "plt.title('model loss')\n",
        "plt.ylabel('loss')\n",
        "plt.xlabel('epoch')\n",
        "plt.legend(['train'],loc='upper left')\n",
        "plt.show()\n",
        "\n",
        "#ploting epochs v/s training loss"
      ],
      "metadata": {
        "colab": {
          "base_uri": "https://localhost:8080/",
          "height": 472
        },
        "id": "FqFZdoe3siVf",
        "outputId": "d04a2a76-8ae0-4405-d2ac-64141444bfba"
      },
      "execution_count": 51,
      "outputs": [
        {
          "output_type": "display_data",
          "data": {
            "text/plain": [
              "<Figure size 640x480 with 1 Axes>"
            ],
            "image/png": "[encoded data removed]"
          },
          "metadata": {}
        }
      ]
    }
  ]
}